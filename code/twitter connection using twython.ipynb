{
 "cells": [
  {
   "cell_type": "code",
   "execution_count": 6,
   "metadata": {},
   "outputs": [],
   "source": [
    "from twython import Twython\n",
    "import csv\n",
    "import io\n",
    "import pandas as pd"
   ]
  },
  {
   "cell_type": "markdown",
   "metadata": {},
   "source": [
    "**Authenticate to Twitter using API keys from twitter**"
   ]
  },
  {
   "cell_type": "code",
   "execution_count": 2,
   "metadata": {},
   "outputs": [
    {
     "name": "stdout",
     "output_type": "stream",
     "text": [
      "Authentication OK\n"
     ]
    }
   ],
   "source": [
    "twitter = Twython(\"APP_KEY\", \"APP_SECRET\",\n",
    "                  \"OAUTH_TOKEN\", \"OAUTH_TOKEN_SECRET\")\n",
    "\n",
    "#Verify connectivity\n",
    "try:\n",
    "    twitter.verify_credentials()\n",
    "    print(\"Authentication OK\")\n",
    "except:\n",
    "    print(\"Error during authentication\")"
   ]
  },
  {
   "cell_type": "markdown",
   "metadata": {},
   "source": [
    "**Use a twitter Id to fetch tweets associated with the twitter Id**"
   ]
  },
  {
   "cell_type": "code",
   "execution_count": 3,
   "metadata": {},
   "outputs": [],
   "source": [
    "user_tweets = twitter.get_user_timeline(screen_name='username')"
   ]
  },
  {
   "cell_type": "markdown",
   "metadata": {},
   "source": [
    "**Create a CSV file from the tweets**"
   ]
  },
  {
   "cell_type": "code",
   "execution_count": 7,
   "metadata": {},
   "outputs": [],
   "source": [
    "i = 0\n",
    "\n",
    "date = pd.Timestamp.now().strftime(format='%Y-%m-%d_%H-%M_')\n",
    "\n",
    "with io.open(f'../data/{date}tweets.csv', 'w', encoding=\"utf-8\", newline='') as file:\n",
    "    writer = csv.writer(file)\n",
    "    writer.writerow([\"SN\", \"Tweet\"])\n",
    "    \n",
    "    for tweet in user_tweets:\n",
    "        tweet['text'] = Twython.html_for_tweet(tweet)\n",
    "        i = i + 1\n",
    "        writer.writerow([i, tweet['text']])"
   ]
  },
  {
   "cell_type": "markdown",
   "metadata": {},
   "source": [
    "**With the created CSV file, analysis can be conducted on the tweet content, data visualisation and natural language processing model created.**"
   ]
  }
 ],
 "metadata": {
  "kernelspec": {
   "display_name": "Python 3",
   "language": "python",
   "name": "python3"
  },
  "language_info": {
   "codemirror_mode": {
    "name": "ipython",
    "version": 3
   },
   "file_extension": ".py",
   "mimetype": "text/x-python",
   "name": "python",
   "nbconvert_exporter": "python",
   "pygments_lexer": "ipython3",
   "version": "3.7.4"
  }
 },
 "nbformat": 4,
 "nbformat_minor": 2
}
