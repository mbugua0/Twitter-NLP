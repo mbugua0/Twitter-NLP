{
 "cells": [
  {
   "cell_type": "code",
   "execution_count": 12,
   "metadata": {},
   "outputs": [],
   "source": [
    "import tweepy as tw\n",
    "import csv\n",
    "import io\n",
    "import pandas as pd"
   ]
  },
  {
   "cell_type": "markdown",
   "metadata": {},
   "source": [
    "**Authenticate to Twitter using API keys from twitter**"
   ]
  },
  {
   "cell_type": "code",
   "execution_count": 18,
   "metadata": {},
   "outputs": [
    {
     "name": "stdout",
     "output_type": "stream",
     "text": [
      "Authentication OK\n"
     ]
    }
   ],
   "source": [
    "# Authenticate to Twitter\n",
    "auth = tw.OAuthHandler(\"CONSUMER_KEY\", \"CONSUMER_SECRET\")\n",
    "auth.set_access_token(\"ACCESS_TOKEN\", \"ACCESS_TOKEN_SECRET\")\n",
    "\n",
    "# Create API object\n",
    "api = tw.API(auth,wait_on_rate_limit=True)\n",
    "\n",
    "try:\n",
    "    api.verify_credentials()\n",
    "    print(\"Authentication OK\")\n",
    "except:\n",
    "    print(\"Error during authentication\")\n"
   ]
  },
  {
   "cell_type": "markdown",
   "metadata": {},
   "source": [
    "**Use a twitter Id to fetch tweets associated with the twitter Id**"
   ]
  },
  {
   "cell_type": "code",
   "execution_count": 3,
   "metadata": {},
   "outputs": [
    {
     "name": "stdout",
     "output_type": "stream",
     "text": [
      "User details:\n",
      "James Mbugua\n",
      "My dreams,my future,my life.\n",
      "Nairobi , Kenya\n"
     ]
    }
   ],
   "source": [
    "user = api.get_user(\"username\")\n",
    "\n",
    "print(\"User details:\")\n",
    "print(user.name)\n",
    "print(user.description)\n",
    "print(user.location)"
   ]
  },
  {
   "cell_type": "code",
   "execution_count": 4,
   "metadata": {},
   "outputs": [
    {
     "name": "stdout",
     "output_type": "stream",
     "text": [
      "Bivan\n",
      "🅰🅽🅸🅽🅰 🅻🅰🅽🅶 💖\n",
      "Wambui Ndung'u\n",
      "ENGINEER JOHN\n",
      "Peter\n",
      "Lec\n",
      "Theo Technologies Limited\n",
      "Don Joshu\n",
      "christinekerubo\n",
      "Janenganga\n",
      "Steven Swat Watene\n",
      "Malkia Muthee\n",
      "George Guty Ngetah\n",
      "Josphat Muturi\n",
      "Esther Mwaura\n",
      "SWMasinde\n",
      "Pinchez\n",
      "elaine\n",
      "Cyrus Kamau\n",
      "Githaiga Irene\n"
     ]
    }
   ],
   "source": [
    "#print(\"Last Followers:\")\n",
    "for follower in user.followers():\n",
    "    print(follower.name)"
   ]
  },
  {
   "cell_type": "markdown",
   "metadata": {},
   "source": [
    "**Create a CSV file from the tweets**"
   ]
  },
  {
   "cell_type": "code",
   "execution_count": null,
   "metadata": {},
   "outputs": [],
   "source": [
    "i = 0\n",
    "date = pd.Timestamp.now().strftime(format='%Y-%m-%d_%H-%M_')\n",
    "\n",
    "with io.open(f'../data/{date}tweets.csv', 'w', encoding=\"utf-8\", newline='') as file:\n",
    "#with io.open('../data/tweets.csv', \"w\", encoding=\"utf-8\") as file:\n",
    "    writer = csv.writer(file)\n",
    "    writer.writerow([\"SN\", \"Tweet\"])\n",
    "    \n",
    "    for tweet in tw.Cursor(api.home_timeline).items():\n",
    "        try:\n",
    "            i = i + 1\n",
    "            writer.writerow([i, tweet.text])\n",
    "        except tweepy.TweepError as e:  \n",
    "            print(e.reason)\n",
    "            sleep(900)\n",
    "            continue\n",
    "        except StopIteration: #stop iteration when last tweet is reached\n",
    "            break    "
   ]
  },
  {
   "cell_type": "markdown",
   "metadata": {},
   "source": [
    "**With the created CSV file, analysis can be conducted on the tweet content, data visualisation and natural language processing model created.**"
   ]
  }
 ],
 "metadata": {
  "kernelspec": {
   "display_name": "Python 3",
   "language": "python",
   "name": "python3"
  },
  "language_info": {
   "codemirror_mode": {
    "name": "ipython",
    "version": 3
   },
   "file_extension": ".py",
   "mimetype": "text/x-python",
   "name": "python",
   "nbconvert_exporter": "python",
   "pygments_lexer": "ipython3",
   "version": "3.7.4"
  }
 },
 "nbformat": 4,
 "nbformat_minor": 2
}
